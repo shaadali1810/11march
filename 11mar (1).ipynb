{
 "cells": [
  {
   "cell_type": "code",
   "execution_count": 7,
   "id": "812fd45e-8a51-4457-88e0-3e03edc7223b",
   "metadata": {},
   "outputs": [],
   "source": [
    "#1\n",
    "#T-test refers to a type of parametric test that is applied to identify, how the means of two sets of data differ from one another when variance is not given.\n",
    "# t test based on student t distribution\n",
    "# for  t-test population variance is unknown\n",
    "# for test sample size is small\n",
    "#Assume that the diagonal measurement of paintings received in an art gallery is taken. One group of samples includes 10 paintings, while the other includes 20 paintings."
   ]
  },
  {
   "cell_type": "code",
   "execution_count": 8,
   "id": "ef43e338-6350-47db-aca2-1af9fc2e945d",
   "metadata": {},
   "outputs": [],
   "source": [
    "#Z-test implies a hypothesis test which ascertains if the means of two datasets are different from each other when variance is given\n",
    "# z-test is based on  normal distribution\n",
    "# in ztest population variance is unknown\n",
    "# in ztest sample size is large\n",
    "#Suppose we randomly sampled subjects from an honors program. We want to determine whether their mean IQ score differs from the general population. The general population’s IQ scores are defined as having a mean of 100 and a standard deviation of 15."
   ]
  },
  {
   "cell_type": "code",
   "execution_count": 9,
   "id": "4e86c903-11c7-4b27-8f40-803abdf78a47",
   "metadata": {},
   "outputs": [],
   "source": [
    "#2\n",
    "#One-tailed and two-tailed tests are two ways of carrying out statistical significance tests of a characteristic, drawn from the population, with respect to the test statistic. A one-tailed test refers to a test of null hypothesis, in which the alternative hypothesis is articulated directionally.1 A two-tailed test allows you to determine if two means are different from one another.3 A two-tailed test will test both if the mean is significantly greater than x and if the mean significantly less than x. The mean is considered significantly different from x if the test statistic is in the top 2.5% or bottom 2.5% of its probability distribution, resulting in a p-value less than 0.05. Two-tailed tests can show evidence that the control and variation are different, whereas one-tailed tests can show evidence if variation is better than the control.2 The main difference between one-tailed and two-tailed tests is that one-tailed tests will only have one critical region, whereas two-tailed tests will have two critical regions.0"
   ]
  },
  {
   "cell_type": "code",
   "execution_count": 10,
   "id": "5056d3b3-475c-4319-b217-d31edce2a48a",
   "metadata": {},
   "outputs": [],
   "source": [
    "#4\n",
    "#Type one and type two errors are errors that we may encounter on a daily basis. It’s important to understand these errors and the impact that they can have on your daily life.\n",
    "\n",
    "#With type 1 errors you are making an incorrect assumption and can lose time and resources. Type 2 errors can result in a missed opportunity to change, enhance, and innovate a project.\n",
    "\n",
    "# To avoid these errors, it’s important to pay close attention to the sample size and the significance level in each experiment."
   ]
  },
  {
   "cell_type": "code",
   "execution_count": 11,
   "id": "de76a05e-74e6-4bb1-a7f9-3cb5ed281b96",
   "metadata": {},
   "outputs": [],
   "source": [
    "#5   Bayes' theorem is a mathematical formula for calculating conditional probability in probability and statistics.13 It follows the axioms of conditional probability, which is the probability of an event given that another event occurred.0 For example, if A gets a 3 on a die roll and B gets a jack of hearts from a well-shuffled deck of cards, then A and B are independent events. Let A and B be the two events associated with a random experiment. The probability of A's occurrence under the condition that B has already occurred and P(B) 0 is called the Conditional Probability.3 Bayes' theorem is slightly more nuanced and gives the actual probability of an event given information about tests.1 It links the degree of belief in a proposition before and after accounting for evidence. Bayes' theorem allows the risk to an individual of a known age to be assessed more accurately by conditioning it relative to their age, rather than simply assuming that the individual is typical of the population as a whole.2"
   ]
  },
  {
   "cell_type": "code",
   "execution_count": 12,
   "id": "50a35d5e-0d12-4da2-9fca-d1059b122a7e",
   "metadata": {},
   "outputs": [],
   "source": [
    "#6 A confidence interval is a range where we think a certain number (like an average) lies for the whole population, based on our sample data. The confidence level (like 95%) is how sure we are that this range includes the true value.2 Confidence intervals help navigate the uncertainty of how well a sample estimates a value for an entire population. Technically, you can create CIs using any confidence level between 0 and 100%, but the most common is 95%. Analysts occasionally use 99% and 90%. To construct the 95% confidence interval, we add/subtract 2 standard deviations from the mean.1 This interval would also contain about 95% of the sample pitches."
   ]
  },
  {
   "cell_type": "code",
   "execution_count": 13,
   "id": "e73ec595-b2c8-4d56-a2d5-2420ceef3cd1",
   "metadata": {},
   "outputs": [],
   "source": [
    "#7 for 95% z value is 1.96, s = 5, n = 50\n",
    "#  x+- z*s/n\n",
    "# 1.96* 10= 19.6"
   ]
  },
  {
   "cell_type": "code",
   "execution_count": 14,
   "id": "d89547d9-904c-40f9-b4d3-49823a8a2026",
   "metadata": {},
   "outputs": [],
   "source": [
    "#8 A margin of error tells you how many percentage points your results will differ from the real population value. For example, a 95% confidence interval with a 4 percent margin of error means that your statistic will be within 4 percentage points of the real population value 95% of the time.\n",
    "\n",
    "\n",
    "#However, there’s a little more to the formal definition. The margin of error is defined a the range of values below and above the sample statistic in a confidence interval. The confidence interval is a way to show what the uncertainty is with a certain statistic (i.e. from a poll or survey).\n",
    "\n",
    "#For example, a poll might state that there is a 98% confidence interval of 4.88 and 5.26. So we can say that if the poll is repeated using the same techniques, 98% of the time the true population parameter (parameter vs. statistic) will fall within the interval estimates (i.e. between 4.88 and 5.26) 98% of the time."
   ]
  },
  {
   "cell_type": "code",
   "execution_count": 15,
   "id": "26d130b4-a1df-4237-bbf0-50dfb61ae994",
   "metadata": {},
   "outputs": [],
   "source": [
    "#9  zscore = x-u/s\n",
    "# x = 75,u = 70, s= 5\n",
    "# 75-70/5\n",
    "# zscore is 1"
   ]
  },
  {
   "cell_type": "code",
   "execution_count": 16,
   "id": "31155c9e-b286-4e5e-9294-681c20288191",
   "metadata": {},
   "outputs": [],
   "source": [
    "#10 for 95% z value is 1.96\n",
    "#  t-test = x+-z*s/n\n",
    "# x = 6, s= 2.5 , n = 50,z = 1.96\n",
    "# 6+1.96*2.5/50\n"
   ]
  },
  {
   "cell_type": "code",
   "execution_count": null,
   "id": "d4bd9c19-76ca-41c4-a64b-bcc31d9dac5e",
   "metadata": {},
   "outputs": [],
   "source": [
    "#11  for  65 %  is 0.63683\n",
    "#  0.63 *"
   ]
  },
  {
   "cell_type": "code",
   "execution_count": null,
   "id": "8ff0aba3-770e-418e-827e-3841a767f4a6",
   "metadata": {},
   "outputs": [],
   "source": [
    "#14 n = 30 ,t = 0.25,s = 0.05"
   ]
  }
 ],
 "metadata": {
  "kernelspec": {
   "display_name": "Python 3 (ipykernel)",
   "language": "python",
   "name": "python3"
  },
  "language_info": {
   "codemirror_mode": {
    "name": "ipython",
    "version": 3
   },
   "file_extension": ".py",
   "mimetype": "text/x-python",
   "name": "python",
   "nbconvert_exporter": "python",
   "pygments_lexer": "ipython3",
   "version": "3.10.8"
  }
 },
 "nbformat": 4,
 "nbformat_minor": 5
}
